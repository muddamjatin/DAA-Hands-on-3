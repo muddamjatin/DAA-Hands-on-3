{
  "nbformat": 4,
  "nbformat_minor": 0,
  "metadata": {
    "colab": {
      "provenance": [],
      "authorship_tag": "ABX9TyMVm3r5zCQWrYSiJipJYwp/",
      "include_colab_link": true
    },
    "kernelspec": {
      "name": "python3",
      "display_name": "Python 3"
    },
    "language_info": {
      "name": "python"
    }
  },
  "cells": [
    {
      "cell_type": "markdown",
      "metadata": {
        "id": "view-in-github",
        "colab_type": "text"
      },
      "source": [
        "<a href=\"https://colab.research.google.com/github/muddamjatin/DAA-Hands-on-3/blob/main/Bonus_Assignment1.ipynb\" target=\"_parent\"><img src=\"https://colab.research.google.com/assets/colab-badge.svg\" alt=\"Open In Colab\"/></a>"
      ]
    },
    {
      "cell_type": "code",
      "execution_count": null,
      "metadata": {
        "id": "Y991YispML0S"
      },
      "outputs": [],
      "source": [
        "# calculator.py\n",
        "\n",
        "def add(x, y):\n",
        "    \"\"\"Addition\"\"\"\n",
        "    result = x + y\n",
        "    print(f\"The result of adding {x} and {y} is: {result}\")\n",
        "    return result\n",
        "\n",
        "def subtract(x, y):\n",
        "    \"\"\"Subtraction\"\"\"\n",
        "    result = x - y\n",
        "    print(f\"The result of subtracting {y} from {x} is: {result}\")\n",
        "    return result\n",
        "\n",
        "def multiply(x, y):\n",
        "    \"\"\"Multiplication\"\"\"\n",
        "    result = x * y\n",
        "    print(f\"The result of multiplying {x} and {y} is: {result}\")\n",
        "    return result\n",
        "\n",
        "def divide(x, y):\n",
        "    \"\"\"Division\"\"\"\n",
        "    if y == 0:\n",
        "        raise ValueError(\"Cannot divide by zero!\")\n",
        "    result = x / y\n",
        "    print(f\"The result of dividing {x} by {y} is: {result}\")\n",
        "    return result\n",
        "\n",
        "def sqrt(x):\n",
        "    '''Square root'''\n",
        "    result = x**(1/2)\n",
        "    print(f\"The square root of {x} is: {result}\")\n",
        "    return result\n"
      ]
    },
    {
      "cell_type": "code",
      "source": [
        "# Example usage of the calculator.py functions\n",
        "\n",
        "x = 10\n",
        "y = 5\n",
        "\n",
        "# Perform addition\n",
        "add(x, y)\n",
        "\n",
        "# Perform subtraction\n",
        "subtract(x, y)\n",
        "\n",
        "# Perform multiplication\n",
        "multiply(x, y)\n",
        "\n",
        "# Perform division\n",
        "divide(x, y)\n",
        "\n",
        "# Perform square root\n",
        "sqrt(x)\n"
      ],
      "metadata": {
        "colab": {
          "base_uri": "https://localhost:8080/"
        },
        "id": "OKSxFX8wP1Pz",
        "outputId": "856ccdb0-331a-45b9-ad25-2e59305e3f11"
      },
      "execution_count": null,
      "outputs": [
        {
          "output_type": "stream",
          "name": "stdout",
          "text": [
            "The result of adding 10 and 5 is: 15\n",
            "The result of subtracting 5 from 10 is: 5\n",
            "The result of multiplying 10 and 5 is: 50\n",
            "The result of dividing 10 by 5 is: 2.0\n",
            "The square root of 10 is: 3.1622776601683795\n"
          ]
        },
        {
          "output_type": "execute_result",
          "data": {
            "text/plain": [
              "3.1622776601683795"
            ]
          },
          "metadata": {},
          "execution_count": 19
        }
      ]
    }
  ]
}