{
  "nbformat": 4,
  "nbformat_minor": 0,
  "metadata": {
    "colab": {
      "provenance": [],
      "authorship_tag": "ABX9TyNeH+yZ+NoldFSkLZxKugkF",
      "include_colab_link": true
    },
    "kernelspec": {
      "name": "python3",
      "display_name": "Python 3"
    },
    "language_info": {
      "name": "python"
    }
  },
  "cells": [
    {
      "cell_type": "markdown",
      "metadata": {
        "id": "view-in-github",
        "colab_type": "text"
      },
      "source": [
        "<a href=\"https://colab.research.google.com/github/muddamjatin/DAA-Hands-on-3/blob/main/DAA_Handson_5.ipynb\" target=\"_parent\"><img src=\"https://colab.research.google.com/assets/colab-badge.svg\" alt=\"Open In Colab\"/></a>"
      ]
    },
    {
      "cell_type": "code",
      "execution_count": 2,
      "metadata": {
        "colab": {
          "base_uri": "https://localhost:8080/"
        },
        "id": "0JZyHy6Txhzf",
        "outputId": "39dccb3e-8a0b-45ef-9c97-cf2027705d5f"
      },
      "outputs": [
        {
          "output_type": "stream",
          "name": "stdout",
          "text": [
            "Heap after build:\n",
            "[10, 20, 30, 50, 40, 70, 60]\n",
            "\n",
            "Heap after insertions:\n",
            "[4, 5, 30, 10, 40, 70, 60, 50, 20]\n",
            "\n",
            "Popped root: 4\n",
            "[5, 10, 30, 20, 40, 70, 60, 50]\n",
            "\n",
            "Popped root: 5\n",
            "[10, 20, 30, 50, 40, 70, 60]\n"
          ]
        }
      ],
      "source": [
        "class MinHeap:\n",
        "    def __init__(self):\n",
        "        self.heap = []\n",
        "\n",
        "\n",
        "    def parent(self, index):\n",
        "        return (index - 1) >> 1\n",
        "\n",
        "    def left_child(self, index):\n",
        "        return (index << 1) + 1\n",
        "\n",
        "    def right_child(self, index):\n",
        "        return (index << 1) + 2\n",
        "\n",
        "    # Build min heap from an arbitrary list\n",
        "    def build_min_heap(self, array):\n",
        "        self.heap = array\n",
        "        n = len(array)\n",
        "\n",
        "        for i in range(self.parent(n - 1), -1, -1):\n",
        "            self.heapify_down(i)\n",
        "\n",
        "\n",
        "    def heapify_down(self, index):\n",
        "        smallest = index\n",
        "        left = self.left_child(index)\n",
        "        right = self.right_child(index)\n",
        "        n = len(self.heap)\n",
        "\n",
        "        if left < n and self.heap[left] < self.heap[smallest]:\n",
        "            smallest = left\n",
        "        if right < n and self.heap[right] < self.heap[smallest]:\n",
        "            smallest = right\n",
        "\n",
        "\n",
        "        if smallest != index:\n",
        "            self.swap(index, smallest)\n",
        "            self.heapify_down(smallest)\n",
        "\n",
        "\n",
        "    def heapify_up(self, index):\n",
        "        while index > 0 and self.heap[self.parent(index)] > self.heap[index]:\n",
        "            self.swap(self.parent(index), index)\n",
        "            index = self.parent(index)\n",
        "\n",
        "\n",
        "    def insert(self, element):\n",
        "        self.heap.append(element)\n",
        "        self.heapify_up(len(self.heap) - 1)\n",
        "\n",
        "\n",
        "    def pop(self):\n",
        "        if len(self.heap) == 0:\n",
        "            return None\n",
        "        root = self.heap[0]\n",
        "        last_element = self.heap.pop()\n",
        "        if len(self.heap) > 0:\n",
        "            self.heap[0] = last_element\n",
        "            self.heapify_down(0)\n",
        "        return root\n",
        "\n",
        "\n",
        "    def swap(self, i, j):\n",
        "        self.heap[i], self.heap[j] = self.heap[j], self.heap[i]\n",
        "\n",
        "\n",
        "    def get_min(self):\n",
        "        return self.heap[0] if self.heap else None\n",
        "\n",
        "\n",
        "    def print_heap(self):\n",
        "        print(self.heap)\n",
        "\n",
        "# For Example :\n",
        "\n",
        "# Create a heap and build it from an arbitrary list\n",
        "heap = MinHeap()\n",
        "heap.build_min_heap([50, 40, 30, 20, 10, 70, 60])\n",
        "\n",
        "# Print heap after building\n",
        "print(\"Heap after build:\")\n",
        "heap.print_heap()\n",
        "\n",
        "# Insert new elements\n",
        "heap.insert(4)\n",
        "heap.insert(5)\n",
        "\n",
        "print(\"\\nHeap after insertions:\")\n",
        "heap.print_heap()\n",
        "\n",
        "# Pop the root and print heap\n",
        "popped = heap.pop()\n",
        "print(f\"\\nPopped root: {popped}\")\n",
        "heap.print_heap()\n",
        "\n",
        "# Pop again\n",
        "popped = heap.pop()\n",
        "print(f\"\\nPopped root: {popped}\")\n",
        "heap.print_heap()\n",
        "\n"
      ]
    }
  ]
}