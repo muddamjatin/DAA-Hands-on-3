{
  "nbformat": 4,
  "nbformat_minor": 0,
  "metadata": {
    "colab": {
      "provenance": [],
      "authorship_tag": "ABX9TyOJtqzYGH0zjE0ww7Vnz6Q/",
      "include_colab_link": true
    },
    "kernelspec": {
      "name": "python3",
      "display_name": "Python 3"
    },
    "language_info": {
      "name": "python"
    }
  },
  "cells": [
    {
      "cell_type": "markdown",
      "metadata": {
        "id": "view-in-github",
        "colab_type": "text"
      },
      "source": [
        "<a href=\"https://colab.research.google.com/github/muddamjatin/DAA-Hands-on-3/blob/main/DAA_Handson_8.ipynb\" target=\"_parent\"><img src=\"https://colab.research.google.com/assets/colab-badge.svg\" alt=\"Open In Colab\"/></a>"
      ]
    },
    {
      "cell_type": "markdown",
      "source": [
        "Task 1: ith Order Statistic Using Quicksort"
      ],
      "metadata": {
        "id": "FTLW9g-KnIPH"
      }
    },
    {
      "cell_type": "code",
      "execution_count": 7,
      "metadata": {
        "colab": {
          "base_uri": "https://localhost:8080/"
        },
        "id": "Ws9HPK4znHf6",
        "outputId": "6fd21243-7376-49be-b089-d3f4e01ce633"
      },
      "outputs": [
        {
          "output_type": "stream",
          "name": "stdout",
          "text": [
            "The 3-th smallest element is: 9\n"
          ]
        }
      ],
      "source": [
        "def partition(arr, low, high):\n",
        "    pivot = arr[high]\n",
        "    i = low\n",
        "    for j in range(low, high):\n",
        "        if arr[j] <= pivot:\n",
        "            arr[i], arr[j] = arr[j], arr[i]\n",
        "            i += 1\n",
        "    arr[i], arr[high] = arr[high], arr[i]\n",
        "    return i\n",
        "\n",
        "def quickselect(arr, low, high, k):\n",
        "    if low == high:\n",
        "        return arr[low]\n",
        "\n",
        "    pivot_index = partition(arr, low, high)\n",
        "\n",
        "\n",
        "    if pivot_index == k:\n",
        "        return arr[pivot_index]\n",
        "    elif pivot_index > k:\n",
        "        return quickselect(arr, low, pivot_index - 1, k)\n",
        "    else:\n",
        "        return quickselect(arr, pivot_index + 1, high, k)\n",
        "\n",
        "\n",
        "arr = [7, 20, 15, 1, 9]\n",
        "k = 2\n",
        "print(f\"The {k+1}-th smallest element is: {quickselect(arr, 0, len(arr) - 1, k)}\")\n"
      ]
    },
    {
      "cell_type": "markdown",
      "source": [
        "Task 2: Implement Stack, Queue, and Singly Linked List Using Fixed-Size Arrays\n",
        "\n",
        "Stack (Fixed-size Array)"
      ],
      "metadata": {
        "id": "pSOj3WpBnZAe"
      }
    },
    {
      "cell_type": "code",
      "source": [
        "class Stack:\n",
        "    def __init__(self, size):\n",
        "        self.size = size\n",
        "        self.stack = [0] * size\n",
        "        self.top = -1\n",
        "\n",
        "    def is_empty(self):\n",
        "        return self.top == -1\n",
        "\n",
        "    def is_full(self):\n",
        "        return self.top == self.size - 1\n",
        "\n",
        "    def push(self, value):\n",
        "        if self.is_full():\n",
        "            print(\"Stack overflow\")\n",
        "            return\n",
        "        self.top += 1\n",
        "        self.stack[self.top] = value\n",
        "\n",
        "    def pop(self):\n",
        "        if self.is_empty():\n",
        "            print(\"Stack underflow\")\n",
        "            return None\n",
        "        value = self.stack[self.top]\n",
        "        self.top -= 1\n",
        "        return value\n",
        "\n",
        "\n",
        "stack = Stack(15)\n",
        "stack.push(20)\n",
        "stack.push(30)\n",
        "print(stack.pop())\n"
      ],
      "metadata": {
        "colab": {
          "base_uri": "https://localhost:8080/"
        },
        "id": "iW--Vv4cnZyM",
        "outputId": "5da6cf99-1fe3-46e9-bbb8-d0b329832c9d"
      },
      "execution_count": 8,
      "outputs": [
        {
          "output_type": "stream",
          "name": "stdout",
          "text": [
            "30\n"
          ]
        }
      ]
    },
    {
      "cell_type": "markdown",
      "source": [
        "Queue (Fixed-size Array)"
      ],
      "metadata": {
        "id": "vNQh0j1ynqAm"
      }
    },
    {
      "cell_type": "code",
      "source": [
        "class Queue:\n",
        "    def __init__(self, size):\n",
        "        self.size = size\n",
        "        self.queue = [0] * size\n",
        "        self.front = 0\n",
        "        self.rear = -1\n",
        "        self.count = 0\n",
        "\n",
        "    def is_empty(self):\n",
        "        return self.count == 0\n",
        "\n",
        "    def is_full(self):\n",
        "        return self.count == self.size\n",
        "\n",
        "    def enqueue(self, value):\n",
        "        if self.is_full():\n",
        "            print(\"Queue overflow\")\n",
        "            return\n",
        "        self.rear = (self.rear + 1) % self.size\n",
        "        self.queue[self.rear] = value\n",
        "        self.count += 1\n",
        "\n",
        "    def dequeue(self):\n",
        "        if self.is_empty():\n",
        "            print(\"Queue underflow\")\n",
        "            return None\n",
        "        value = self.queue[self.front]\n",
        "        self.front = (self.front + 1) % self.size\n",
        "        self.count -= 1\n",
        "        return value\n",
        "\n",
        "\n",
        "queue = Queue(15)\n",
        "queue.enqueue(20)\n",
        "queue.enqueue(30)\n",
        "print(queue.dequeue())\n"
      ],
      "metadata": {
        "colab": {
          "base_uri": "https://localhost:8080/"
        },
        "id": "XPtsLAtWnt_v",
        "outputId": "a31efd43-34d0-4961-abac-fac32372b4a4"
      },
      "execution_count": 4,
      "outputs": [
        {
          "output_type": "stream",
          "name": "stdout",
          "text": [
            "20\n"
          ]
        }
      ]
    },
    {
      "cell_type": "markdown",
      "source": [
        "Singly Linked List (Simulated with Fixed-size Array)\n"
      ],
      "metadata": {
        "id": "l326nReun74P"
      }
    },
    {
      "cell_type": "code",
      "source": [
        "class Node:\n",
        "    def __init__(self, value):\n",
        "        self.value = value\n",
        "        self.next = -1\n",
        "\n",
        "class SinglyLinkedList:\n",
        "    def __init__(self, size):\n",
        "        self.size = size\n",
        "        self.list = [None] * size\n",
        "        self.head = -1\n",
        "        self.free = 0\n",
        "\n",
        "    def insert(self, value):\n",
        "        if self.free >= self.size:\n",
        "            print(\"List overflow\")\n",
        "            return\n",
        "        new_node = Node(value)\n",
        "        self.list[self.free] = new_node\n",
        "        if self.head == -1:\n",
        "            self.head = self.free\n",
        "        else:\n",
        "            current = self.head\n",
        "            while self.list[current].next != -1:\n",
        "                current = self.list[current].next\n",
        "            self.list[current].next = self.free\n",
        "        self.free += 1\n",
        "\n",
        "    def display(self):\n",
        "        current = self.head\n",
        "        while current != -1:\n",
        "            print(self.list[current].value, end=\" -> \")\n",
        "            current = self.list[current].next\n",
        "        print(\"None\")\n",
        "\n",
        "\n",
        "linked_list = SinglyLinkedList(15)\n",
        "linked_list.insert(20)\n",
        "linked_list.insert(30)\n",
        "linked_list.display()\n"
      ],
      "metadata": {
        "colab": {
          "base_uri": "https://localhost:8080/"
        },
        "id": "yj7tl5_In_AL",
        "outputId": "491f24ab-5575-4170-8467-b66de768bf93"
      },
      "execution_count": 10,
      "outputs": [
        {
          "output_type": "stream",
          "name": "stdout",
          "text": [
            "20 -> 30 -> None\n"
          ]
        }
      ]
    }
  ]
}