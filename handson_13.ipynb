{
  "nbformat": 4,
  "nbformat_minor": 0,
  "metadata": {
    "colab": {
      "provenance": [],
      "authorship_tag": "ABX9TyMfUM6b2sLPUAk6vafHsHYs",
      "include_colab_link": true
    },
    "kernelspec": {
      "name": "python3",
      "display_name": "Python 3"
    },
    "language_info": {
      "name": "python"
    }
  },
  "cells": [
    {
      "cell_type": "markdown",
      "metadata": {
        "id": "view-in-github",
        "colab_type": "text"
      },
      "source": [
        "<a href=\"https://colab.research.google.com/github/muddamjatin/DAA-Hands-on-3/blob/main/handson_13.ipynb\" target=\"_parent\"><img src=\"https://colab.research.google.com/assets/colab-badge.svg\" alt=\"Open In Colab\"/></a>"
      ]
    },
    {
      "cell_type": "markdown",
      "source": [
        "DFS"
      ],
      "metadata": {
        "id": "HJT5NTAQNlv7"
      }
    },
    {
      "cell_type": "code",
      "execution_count": 3,
      "metadata": {
        "colab": {
          "base_uri": "https://localhost:8080/"
        },
        "id": "XB-8WkvANi6e",
        "outputId": "7eaa64d5-6c8d-46d0-80f1-f2a776c05ba3"
      },
      "outputs": [
        {
          "output_type": "stream",
          "name": "stdout",
          "text": [
            "Depth-First Search from 'u':\n",
            "u v y x \n"
          ]
        }
      ],
      "source": [
        "from collections import defaultdict\n",
        "\n",
        "def perform_dfs(edges, start_point):\n",
        "    adjacency_map = defaultdict(list)\n",
        "    for origin, destination in edges:\n",
        "        adjacency_map[origin].append(destination)\n",
        "\n",
        "    seen = set()\n",
        "\n",
        "    def traverse(node):\n",
        "        if node not in seen:\n",
        "            print(node, end=' ')\n",
        "            seen.add(node)\n",
        "            for adjacent in adjacency_map[node]:\n",
        "                traverse(adjacent)\n",
        "\n",
        "    traverse(start_point)\n",
        "    print()\n",
        "\n",
        "# Define edges for DFS example\n",
        "example_edges = [\n",
        "    (\"u\", \"v\"),\n",
        "    (\"u\", \"x\"),\n",
        "    (\"v\", \"y\"),\n",
        "    (\"y\", \"x\"),\n",
        "    (\"x\", \"v\"),\n",
        "    (\"w\", \"z\"),\n",
        "    (\"w\", \"y\"),\n",
        "    (\"z\", \"z\")  # self-loop\n",
        "]\n",
        "\n",
        "print(\"Depth-First Search from 'u':\")\n",
        "perform_dfs(example_edges, 'u')"
      ]
    },
    {
      "cell_type": "markdown",
      "source": [
        "kruskalAlgorithm"
      ],
      "metadata": {
        "id": "quckO3JgNrmC"
      }
    },
    {
      "cell_type": "code",
      "source": [
        "class GraphEdge:\n",
        "    def __init__(self, weight, start, end):\n",
        "        self.weight = weight\n",
        "        self.start = start\n",
        "        self.end = end\n",
        "\n",
        "class DisjointSetUnion:\n",
        "    def __init__(self, vertices):\n",
        "        self.parent = {vertex: vertex for vertex in vertices}\n",
        "        self.rank = {vertex: 0 for vertex in vertices}\n",
        "\n",
        "    def find(self, vertex):\n",
        "        if self.parent[vertex] != vertex:\n",
        "            self.parent[vertex] = self.find(self.parent[vertex])\n",
        "        return self.parent[vertex]\n",
        "\n",
        "    def union(self, vertex1, vertex2):\n",
        "        root1 = self.find(vertex1)\n",
        "        root2 = self.find(vertex2)\n",
        "        if root1 != root2:\n",
        "            if self.rank[root1] > self.rank[root2]:\n",
        "                self.parent[root2] = root1\n",
        "            elif self.rank[root1] < self.rank[root2]:\n",
        "                self.parent[root1] = root2\n",
        "            else:\n",
        "                self.parent[root2] = root1\n",
        "                self.rank[root1] += 1\n",
        "\n",
        "def kruskal_mst(vertices, edges):\n",
        "    edges = sorted(edges, key=lambda edge: edge.weight)\n",
        "    dsu = DisjointSetUnion(vertices)\n",
        "    mst_result = []\n",
        "\n",
        "    for edge in edges:\n",
        "        if dsu.find(edge.start) != dsu.find(edge.end):\n",
        "            dsu.union(edge.start, edge.end)\n",
        "            mst_result.append(edge)\n",
        "\n",
        "    return mst_result\n",
        "\n",
        "# Define nodes and edges for Kruskal's example\n",
        "nodes_kruskal = {\"a\", \"b\", \"c\", \"d\", \"e\", \"f\", \"g\", \"h\", \"i\"}\n",
        "edges_kruskal = [\n",
        "    GraphEdge(4, \"a\", \"b\"),\n",
        "    GraphEdge(8, \"a\", \"h\"),\n",
        "    GraphEdge(8, \"b\", \"c\"),\n",
        "    GraphEdge(11, \"b\", \"h\"),\n",
        "    GraphEdge(7, \"c\", \"d\"),\n",
        "    GraphEdge(4, \"c\", \"f\"),\n",
        "    GraphEdge(2, \"c\", \"i\"),\n",
        "    GraphEdge(6, \"c\", \"g\"),\n",
        "    GraphEdge(9, \"d\", \"e\"),\n",
        "    GraphEdge(14, \"d\", \"f\"),\n",
        "    GraphEdge(10, \"e\", \"f\"),\n",
        "    GraphEdge(2, \"f\", \"g\"),\n",
        "    GraphEdge(1, \"g\", \"h\"),\n",
        "    GraphEdge(7, \"h\", \"i\")\n",
        "]\n",
        "\n",
        "# Perform Kruskal's MST\n",
        "mst = kruskal_mst(nodes_kruskal, edges_kruskal)\n",
        "print(\"Kruskal's MST:\")\n",
        "for edge in mst:\n",
        "    print(f\"Edge {edge.start}-{edge.end} with weight {edge.weight}\")"
      ],
      "metadata": {
        "colab": {
          "base_uri": "https://localhost:8080/"
        },
        "id": "VhpUukrBNw-r",
        "outputId": "9db7e059-0f78-4ba3-a53d-5580a2d11c0c"
      },
      "execution_count": 4,
      "outputs": [
        {
          "output_type": "stream",
          "name": "stdout",
          "text": [
            "Kruskal's MST:\n",
            "Edge g-h with weight 1\n",
            "Edge c-i with weight 2\n",
            "Edge f-g with weight 2\n",
            "Edge a-b with weight 4\n",
            "Edge c-f with weight 4\n",
            "Edge c-d with weight 7\n",
            "Edge a-h with weight 8\n",
            "Edge d-e with weight 9\n"
          ]
        }
      ]
    },
    {
      "cell_type": "markdown",
      "source": [
        "topologicalsort"
      ],
      "metadata": {
        "id": "bhCfWOmrNzzJ"
      }
    },
    {
      "cell_type": "code",
      "source": [
        "from collections import defaultdict\n",
        "\n",
        "class DirectedGraph:\n",
        "    def __init__(self, vertex_count):\n",
        "        self.adjacency_list = defaultdict(list)\n",
        "        self.num_vertices = vertex_count\n",
        "\n",
        "    def insert_edge(self, start, end):\n",
        "        self.adjacency_list[start].append(end)\n",
        "\n",
        "    def topological_sort_helper(self, node, visited_nodes, sorted_nodes):\n",
        "        visited_nodes[node] = True\n",
        "        for neighbor in self.adjacency_list[node]:\n",
        "            if not visited_nodes[neighbor]:\n",
        "                self.topological_sort_helper(neighbor, visited_nodes, sorted_nodes)\n",
        "        sorted_nodes.insert(0, node)\n",
        "\n",
        "    def compute_topological_sort(self, vertices):\n",
        "        visited_nodes = {vertex: False for vertex in vertices}\n",
        "        sorted_nodes = []\n",
        "        for vertex in vertices:\n",
        "            if not visited_nodes[vertex]:\n",
        "                self.topological_sort_helper(vertex, visited_nodes, sorted_nodes)\n",
        "        return sorted_nodes\n",
        "\n",
        "# Define vertices and edges for the example\n",
        "vertices = [\"undershorts\", \"pants\", \"belt\", \"shirt\", \"tie\", \"jacket\", \"socks\", \"shoes\", \"watch\"]\n",
        "\n",
        "# List of directed edges\n",
        "connections = [\n",
        "    (\"undershorts\", \"pants\"),\n",
        "    (\"pants\", \"belt\"),\n",
        "    (\"pants\", \"shoes\"),\n",
        "    (\"shirt\", \"belt\"),\n",
        "    (\"shirt\", \"tie\"),\n",
        "    (\"tie\", \"jacket\"),\n",
        "    (\"belt\", \"jacket\"),\n",
        "    (\"socks\", \"shoes\")\n",
        "]\n",
        "\n",
        "# Create graph and add edges\n",
        "graph = DirectedGraph(len(vertices))\n",
        "for start, end in connections:\n",
        "    graph.insert_edge(start, end)\n",
        "\n",
        "# Perform topological sort\n",
        "print(\"Topological Sort:\", graph.compute_topological_sort(vertices))"
      ],
      "metadata": {
        "colab": {
          "base_uri": "https://localhost:8080/"
        },
        "id": "sE37cQ60N2mQ",
        "outputId": "0ee0a07f-263c-4bbb-eac3-80e856defafe"
      },
      "execution_count": 5,
      "outputs": [
        {
          "output_type": "stream",
          "name": "stdout",
          "text": [
            "Topological Sort: ['watch', 'socks', 'shirt', 'tie', 'undershorts', 'pants', 'shoes', 'belt', 'jacket']\n"
          ]
        }
      ]
    }
  ]
}